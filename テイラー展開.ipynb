{
 "cells": [
  {
   "cell_type": "code",
   "execution_count": 6,
   "id": "83b2f0ac",
   "metadata": {},
   "outputs": [
    {
     "name": "stdout",
     "output_type": "stream",
     "text": [
      "テイラー展開\n",
      "21*x/10 + 21/10\n"
     ]
    },
    {
     "data": {
      "text/plain": [
       "(0.0, 10.0)"
      ]
     },
     "execution_count": 6,
     "metadata": {},
     "output_type": "execute_result"
    },
    {
     "data": {
      "image/png": "[encoded data removed]",
      "text/plain": [
       "<Figure size 432x288 with 1 Axes>"
      ]
     },
     "metadata": {
      "needs_background": "light"
     },
     "output_type": "display_data"
    }
   ],
   "source": [
    "from sympy import*\n",
    "import numpy as np\n",
    "from matplotlib import pyplot as plt\n",
    "\n",
    "#パラメータを設定\n",
    "n = 1 #次数\n",
    "x0 = 0\n",
    "\n",
    "#シンボルを設定\n",
    "x = Symbol('x')\n",
    "\n",
    "#関数を定義\n",
    "f = 2 + x + sin(x) + exp(x) / 10\n",
    "\n",
    "#テイラー展開を導出\n",
    "taylor = series(f, x = x, x0 = x0, n = n + 1).removeO()\n",
    "taylor_y = lambdify(x, taylor, 'numpy')\n",
    "print(\"テイラー展開\")\n",
    "print(taylor)\n",
    "\n",
    "#描画\n",
    "x_theory = np.arange(0.0, 10.0, 0.1)\n",
    "y_theory = 2 + x_theory + np.sin(x_theory) + np.exp(x_theory) / 10\n",
    "plt.plot(x_theory, y_theory, lw = 3, c = \"k\")\n",
    "plt.plot(x_theory, taylor_y(x_theory), c = \"b\")\n",
    "plt.xlim([0, 10])"
   ]
  },
  {
   "cell_type": "code",
   "execution_count": null,
   "id": "ca798b73",
   "metadata": {},
   "outputs": [],
   "source": []
  }
 ],
 "metadata": {
  "kernelspec": {
   "display_name": "Python 3 (ipykernel)",
   "language": "python",
   "name": "python3"
  },
  "language_info": {
   "codemirror_mode": {
    "name": "ipython",
    "version": 3
   },
   "file_extension": ".py",
   "mimetype": "text/x-python",
   "name": "python",
   "nbconvert_exporter": "python",
   "pygments_lexer": "ipython3",
   "version": "3.9.13"
  }
 },
 "nbformat": 4,
 "nbformat_minor": 5
}
